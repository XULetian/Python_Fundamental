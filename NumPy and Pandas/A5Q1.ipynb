{
 "cells": [
  {
   "cell_type": "markdown",
   "metadata": {},
   "source": [
    "### Letian Xu\n",
    "### 03-12-2019\n",
    "### I have not given or received any unauthorized assistance on this assignment."
   ]
  },
  {
   "cell_type": "code",
   "execution_count": 22,
   "metadata": {},
   "outputs": [],
   "source": [
    "import numpy as np"
   ]
  },
  {
   "cell_type": "markdown",
   "metadata": {},
   "source": [
    "## 2"
   ]
  },
  {
   "cell_type": "code",
   "execution_count": 23,
   "metadata": {},
   "outputs": [],
   "source": [
    "a = np.arange(0,100,1)"
   ]
  },
  {
   "cell_type": "markdown",
   "metadata": {},
   "source": [
    "## 3"
   ]
  },
  {
   "cell_type": "code",
   "execution_count": 24,
   "metadata": {},
   "outputs": [],
   "source": [
    "b = np.arange(0,100,10)"
   ]
  },
  {
   "cell_type": "markdown",
   "metadata": {},
   "source": [
    "## 4"
   ]
  },
  {
   "cell_type": "code",
   "execution_count": 25,
   "metadata": {},
   "outputs": [],
   "source": [
    "c = np.linspace(0,10,101)"
   ]
  },
  {
   "cell_type": "markdown",
   "metadata": {},
   "source": [
    "## 5"
   ]
  },
  {
   "cell_type": "code",
   "execution_count": 26,
   "metadata": {},
   "outputs": [],
   "source": [
    "from random import randint\n",
    "\n",
    "\n",
    "n = 10\n",
    "d = []\n",
    "for i in range(n):\n",
    "    d_1 = []\n",
    "    for i in range(n):\n",
    "        d_1.append(randint(0, 9))\n",
    "    d.append(b)"
   ]
  },
  {
   "cell_type": "markdown",
   "metadata": {},
   "source": [
    "## 6"
   ]
  },
  {
   "cell_type": "code",
   "execution_count": 27,
   "metadata": {},
   "outputs": [],
   "source": [
    "a = np.reshape(a, (10, 10))"
   ]
  },
  {
   "cell_type": "markdown",
   "metadata": {},
   "source": [
    "## 7"
   ]
  },
  {
   "cell_type": "code",
   "execution_count": 28,
   "metadata": {},
   "outputs": [
    {
     "data": {
      "text/plain": [
       "45"
      ]
     },
     "execution_count": 28,
     "metadata": {},
     "output_type": "execute_result"
    }
   ],
   "source": [
    "a[4,5]"
   ]
  },
  {
   "cell_type": "markdown",
   "metadata": {},
   "source": [
    "Sixth element on fifth row of numpy array"
   ]
  },
  {
   "cell_type": "markdown",
   "metadata": {},
   "source": [
    "## 8"
   ]
  },
  {
   "cell_type": "code",
   "execution_count": 29,
   "metadata": {},
   "outputs": [
    {
     "data": {
      "text/plain": [
       "array([40, 41, 42, 43, 44, 45, 46, 47, 48, 49])"
      ]
     },
     "execution_count": 29,
     "metadata": {},
     "output_type": "execute_result"
    }
   ],
   "source": [
    "a[4]"
   ]
  },
  {
   "cell_type": "markdown",
   "metadata": {},
   "source": [
    "Fifth row of numpy array"
   ]
  },
  {
   "cell_type": "markdown",
   "metadata": {},
   "source": [
    "## 9"
   ]
  },
  {
   "cell_type": "code",
   "execution_count": 30,
   "metadata": {},
   "outputs": [
    {
     "data": {
      "text/plain": [
       "4500"
      ]
     },
     "execution_count": 30,
     "metadata": {},
     "output_type": "execute_result"
    }
   ],
   "source": [
    "np.sum(d)"
   ]
  },
  {
   "cell_type": "markdown",
   "metadata": {},
   "source": [
    "## 10"
   ]
  },
  {
   "cell_type": "code",
   "execution_count": 32,
   "metadata": {},
   "outputs": [
    {
     "data": {
      "text/plain": [
       "99"
      ]
     },
     "execution_count": 32,
     "metadata": {},
     "output_type": "execute_result"
    }
   ],
   "source": [
    "np.amax(a)"
   ]
  },
  {
   "cell_type": "markdown",
   "metadata": {},
   "source": [
    "## 11"
   ]
  },
  {
   "cell_type": "code",
   "execution_count": 33,
   "metadata": {},
   "outputs": [
    {
     "data": {
      "text/plain": [
       "array([ 0, 10, 20, 30, 40, 50, 60, 70, 80, 90])"
      ]
     },
     "execution_count": 33,
     "metadata": {},
     "output_type": "execute_result"
    }
   ],
   "source": [
    "np.transpose(b)"
   ]
  },
  {
   "cell_type": "markdown",
   "metadata": {},
   "source": [
    "## 12"
   ]
  },
  {
   "cell_type": "code",
   "execution_count": 34,
   "metadata": {},
   "outputs": [
    {
     "data": {
      "text/plain": [
       "array([[  0,  11,  22,  33,  44,  55,  66,  77,  88,  99],\n",
       "       [ 10,  21,  32,  43,  54,  65,  76,  87,  98, 109],\n",
       "       [ 20,  31,  42,  53,  64,  75,  86,  97, 108, 119],\n",
       "       [ 30,  41,  52,  63,  74,  85,  96, 107, 118, 129],\n",
       "       [ 40,  51,  62,  73,  84,  95, 106, 117, 128, 139],\n",
       "       [ 50,  61,  72,  83,  94, 105, 116, 127, 138, 149],\n",
       "       [ 60,  71,  82,  93, 104, 115, 126, 137, 148, 159],\n",
       "       [ 70,  81,  92, 103, 114, 125, 136, 147, 158, 169],\n",
       "       [ 80,  91, 102, 113, 124, 135, 146, 157, 168, 179],\n",
       "       [ 90, 101, 112, 123, 134, 145, 156, 167, 178, 189]])"
      ]
     },
     "execution_count": 34,
     "metadata": {},
     "output_type": "execute_result"
    }
   ],
   "source": [
    "np.add(a, d)"
   ]
  },
  {
   "cell_type": "markdown",
   "metadata": {},
   "source": [
    "## 13"
   ]
  },
  {
   "cell_type": "code",
   "execution_count": 35,
   "metadata": {},
   "outputs": [
    {
     "data": {
      "text/plain": [
       "array([[   0,   10,   40,   90,  160,  250,  360,  490,  640,  810],\n",
       "       [   0,  110,  240,  390,  560,  750,  960, 1190, 1440, 1710],\n",
       "       [   0,  210,  440,  690,  960, 1250, 1560, 1890, 2240, 2610],\n",
       "       [   0,  310,  640,  990, 1360, 1750, 2160, 2590, 3040, 3510],\n",
       "       [   0,  410,  840, 1290, 1760, 2250, 2760, 3290, 3840, 4410],\n",
       "       [   0,  510, 1040, 1590, 2160, 2750, 3360, 3990, 4640, 5310],\n",
       "       [   0,  610, 1240, 1890, 2560, 3250, 3960, 4690, 5440, 6210],\n",
       "       [   0,  710, 1440, 2190, 2960, 3750, 4560, 5390, 6240, 7110],\n",
       "       [   0,  810, 1640, 2490, 3360, 4250, 5160, 6090, 7040, 8010],\n",
       "       [   0,  910, 1840, 2790, 3760, 4750, 5760, 6790, 7840, 8910]])"
      ]
     },
     "execution_count": 35,
     "metadata": {},
     "output_type": "execute_result"
    }
   ],
   "source": [
    "np.multiply(a, d)"
   ]
  },
  {
   "cell_type": "markdown",
   "metadata": {},
   "source": [
    "## 14"
   ]
  },
  {
   "cell_type": "code",
   "execution_count": 36,
   "metadata": {},
   "outputs": [
    {
     "data": {
      "text/plain": [
       "array([[    0,   450,   900,  1350,  1800,  2250,  2700,  3150,  3600,\n",
       "         4050],\n",
       "       [    0,  1450,  2900,  4350,  5800,  7250,  8700, 10150, 11600,\n",
       "        13050],\n",
       "       [    0,  2450,  4900,  7350,  9800, 12250, 14700, 17150, 19600,\n",
       "        22050],\n",
       "       [    0,  3450,  6900, 10350, 13800, 17250, 20700, 24150, 27600,\n",
       "        31050],\n",
       "       [    0,  4450,  8900, 13350, 17800, 22250, 26700, 31150, 35600,\n",
       "        40050],\n",
       "       [    0,  5450, 10900, 16350, 21800, 27250, 32700, 38150, 43600,\n",
       "        49050],\n",
       "       [    0,  6450, 12900, 19350, 25800, 32250, 38700, 45150, 51600,\n",
       "        58050],\n",
       "       [    0,  7450, 14900, 22350, 29800, 37250, 44700, 52150, 59600,\n",
       "        67050],\n",
       "       [    0,  8450, 16900, 25350, 33800, 42250, 50700, 59150, 67600,\n",
       "        76050],\n",
       "       [    0,  9450, 18900, 28350, 37800, 47250, 56700, 66150, 75600,\n",
       "        85050]])"
      ]
     },
     "execution_count": 36,
     "metadata": {},
     "output_type": "execute_result"
    }
   ],
   "source": [
    "np.dot(a, d)"
   ]
  },
  {
   "cell_type": "code",
   "execution_count": null,
   "metadata": {},
   "outputs": [],
   "source": []
  }
 ],
 "metadata": {
  "kernelspec": {
   "display_name": "Python 3",
   "language": "python",
   "name": "python3"
  },
  "language_info": {
   "codemirror_mode": {
    "name": "ipython",
    "version": 3
   },
   "file_extension": ".py",
   "mimetype": "text/x-python",
   "name": "python",
   "nbconvert_exporter": "python",
   "pygments_lexer": "ipython3",
   "version": "3.6.4"
  }
 },
 "nbformat": 4,
 "nbformat_minor": 2
}
