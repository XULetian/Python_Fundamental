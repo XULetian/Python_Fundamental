{
 "cells": [
  {
   "cell_type": "markdown",
   "metadata": {},
   "source": [
    "### Letian Xu\n",
    "### 03-12-2019\n",
    "### I have not given or received any unauthorized assistance on this assignment."
   ]
  },
  {
   "cell_type": "code",
   "execution_count": 1,
   "metadata": {},
   "outputs": [],
   "source": [
    "import numpy as np\n",
    "from random import randint"
   ]
  },
  {
   "cell_type": "code",
   "execution_count": 2,
   "metadata": {},
   "outputs": [],
   "source": [
    "import matplotlib.animation as animation "
   ]
  },
  {
   "cell_type": "code",
   "execution_count": 3,
   "metadata": {},
   "outputs": [],
   "source": [
    "import matplotlib.pyplot as plt"
   ]
  },
  {
   "cell_type": "code",
   "execution_count": 4,
   "metadata": {},
   "outputs": [],
   "source": [
    "def conway(s, p):\n",
    "    size = s\n",
    "    live_cells = round(s**2*p)\n",
    "    x = [1] * live_cells + [0] * (size ** 2 - live_cells)\n",
    "    np.random.shuffle(x)\n",
    "    board = np.mat(x).reshape(size, size)\n",
    "    \n",
    "    return board"
   ]
  },
  {
   "cell_type": "code",
   "execution_count": 5,
   "metadata": {},
   "outputs": [],
   "source": [
    "def update(board): \n",
    "\n",
    "    update = board.copy() \n",
    "    size = len(board)\n",
    "    for i in range(size): \n",
    "        for j in range(size): \n",
    "  \n",
    "            # compute 8-neghbor sum \n",
    "            total = int((board[i, (j-1)%size] + board[i, (j+1)%size] + \n",
    "                         board[(i-1)%size, j] + board[(i+1)%size, j] + \n",
    "                         board[(i-1)%size, (j-1)%size] + board[(i-1)%size, (j+1)%size] + \n",
    "                         board[(i+1)%size, (j-1)%size] + board[(i+1)%size, (j+1)%size])/1) \n",
    "  \n",
    "            # apply Conway's rules \n",
    "            if board[i, j]  == 1: \n",
    "                if (total < 2) or (total > 3): \n",
    "                    update[i, j] = 0 \n",
    "            else: \n",
    "                if total == 3: \n",
    "                    update[i, j] = 1 \n",
    "  \n",
    "    # update data \n",
    "    board = update\n",
    "    return board "
   ]
  },
  {
   "cell_type": "code",
   "execution_count": 6,
   "metadata": {},
   "outputs": [],
   "source": [
    "def advance(b,t):\n",
    "    plt.ion()\n",
    "    for _ in range(t+1):\n",
    "        plt.title('Iter :{}'.format(_))\n",
    "        plt.imshow(b)\n",
    "        b = update(b)\n",
    "        plt.pause(0.2)\n",
    "    \n",
    "    plt.ioff()"
   ]
  },
  {
   "cell_type": "code",
   "execution_count": 7,
   "metadata": {},
   "outputs": [],
   "source": [
    "board = conway(100, 0.1)"
   ]
  },
  {
   "cell_type": "code",
   "execution_count": 8,
   "metadata": {},
   "outputs": [
    {
     "data": {
      "image/png": "[encoded data removed]",
      "text/plain": [
       "<Figure size 432x288 with 1 Axes>"
      ]
     },
     "metadata": {},
     "output_type": "display_data"
    },
    {
     "data": {
      "image/png": "[encoded data removed]",
      "text/plain": [
       "<Figure size 432x288 with 1 Axes>"
      ]
     },
     "metadata": {},
     "output_type": "display_data"
    },
    {
     "data": {
      "image/png": "[encoded data removed]",
      "text/plain": [
       "<Figure size 432x288 with 1 Axes>"
      ]
     },
     "metadata": {},
     "output_type": "display_data"
    },
    {
     "data": {
      "image/png": "[encoded data removed]",
      "text/plain": [
       "<Figure size 432x288 with 1 Axes>"
      ]
     },
     "metadata": {},
     "output_type": "display_data"
    }
   ],
   "source": [
    "advance(board,3)"
   ]
  },
  {
   "cell_type": "markdown",
   "metadata": {},
   "source": [
    "## Animation Visualization"
   ]
  },
  {
   "cell_type": "code",
   "execution_count": 10,
   "metadata": {},
   "outputs": [],
   "source": [
    "board = conway(100, 0.1)"
   ]
  },
  {
   "cell_type": "code",
   "execution_count": 11,
   "metadata": {},
   "outputs": [
    {
     "data": {
      "image/png": "[encoded data removed]",
      "text/plain": [
       "<Figure size 432x288 with 1 Axes>"
      ]
     },
     "metadata": {},
     "output_type": "display_data"
    }
   ],
   "source": [
    "fig, ax = plt.subplots() \n",
    "img = ax.imshow(board) \n",
    "\n",
    "def init():    \n",
    "    img.set_data(board)\n",
    "    return img,\n",
    "\n",
    "def plot(frame, board):\n",
    "    board = update(board)\n",
    "    img.set_data(board)\n",
    "    return img,\n",
    "\n",
    "ani = animation.FuncAnimation(fig, plot, frames = 100,\n",
    "                              fargs=(board, ),\n",
    "                              init_func=init,\n",
    "                                interval=50,\n",
    "                                save_count=50,\n",
    "                                blit=False) \n",
    "\n",
    "plt.show() "
   ]
  },
  {
   "cell_type": "code",
   "execution_count": 14,
   "metadata": {},
   "outputs": [],
   "source": [
    "from matplotlib import animation, rc\n",
    "rc('animation', html='html5')"
   ]
  },
  {
   "cell_type": "code",
   "execution_count": 15,
   "metadata": {},
   "outputs": [
    {
     "data": {
      "text/html": [
       "<video width=\"432\" height=\"288\" controls autoplay loop>\n",
       "  <source type=\"video/mp4\" src=\"data:video/mp4;base64,AAAAHGZ0eXBNNFYgAAACAGlzb21pc28yYXZjMQAAAAhmcmVlAAAvIG1kYXQAAAKgBgX//5zcRem9\n",
       "5tlIt5Ys2CDZI+7veDI2NCAtIGNvcmUgMTUyIC0gSC4yNjQvTVBFRy00IEFWQyBjb2RlYyAtIENv\n",
       "cHlsZWZ0IDIwMDMtMjAxNyAtIGh0dHA6Ly93d3cudmlkZW9sYW4ub3JnL3gyNjQuaHRtbCAtIG9w\n",
       "dGlvbnM6IGNhYmFjPTEgcmVmPTMgZGVibG9jaz0xOjA6MCBhbmFseXNlPTB4MzoweDExMyBtZT1o\n",
       "ZXggc3VibWU9NyBwc3k9MSBwc3lfcmQ9MS4wMDowLjAwIG1peGVkX3JlZj0xIG1lX3JhbmdlPTE2\n",
       "IGNocm9tYV9tZT0xIHRyZWxsaXM9MSA4eDhkY3Q9MSBjcW09MCBkZWFkem9uZT0yMSwxMSBmYXN0\n",
       "X3Bza2lwPTEgY2hyb21hX3FwX29mZnNldD0tMiB0aHJlYWRzPTkgbG9va2FoZWFkX3RocmVhZHM9\n",
       "MSBzbGljZWRfdGhyZWFkcz0wIG5yPTAgZGVjaW1hdGU9MSBpbnRlcmxhY2VkPTAgYmx1cmF5X2Nv\n",
       "bXBhdD0wIGNvbnN0cmFpbmVkX2ludHJhPTAgYmZyYW1lcz0zIGJfcHlyYW1pZD0yIGJfYWRhcHQ9\n",
       "MSBiX2JpYXM9MCBkaXJlY3Q9MSB3ZWlnaHRiPTEgb3Blbl9nb3A9MCB3ZWlnaHRwPTIga2V5aW50\n",
       "PTI1MCBrZXlpbnRfbWluPTIwIHNjZW5lY3V0PTQwIGludHJhX3JlZnJlc2g9MCByY19sb29rYWhl\n",
       "YWQ9NDAgcmM9Y3JmIG1idHJlZT0xIGNyZj0yMy4wIHFjb21wPTAuNjAgcXBtaW49MCBxcG1heD02\n",
       "OSBxcHN0ZXA9NCBpcF9yYXRpbz0xLjQwIGFxPTE6MS4wMACAAAAjJWWIhAA///73aJ8Cm1pDeoDk\n",
       "lcUl20+B/6tncHyP6QMAAAMAAK6sc+imSBhd68YAAm7AAhcpJgn/AAlvz0ZE2ZpljS76UmgifAv6\n",
       "mOX0a41SyRYs/1yQlJffrdsyGaA4HdCO70hdwv76kRv29wXh3a5zZKhs2nkfSmCDmxe4DuJPk4kM\n",
       "LD2WBl3Bvzef6SHEdC85nEz2PDaM/z28SlUFKiNC+OH8kRgQTu7EiqtW4tLUKJj24A3mMwiQ8itm\n",
       "7ZN5Ov0jc7M/2qXbE2wCE7dmKtgkoNIEZHdjYBEJZU6RaerqU/qgFVG0FgH9XgVAt3JU6cs51v94\n",
       "0KNWjk1HYivz7GK+4jLKA07YG51CdDRWAfSYaUyCmv8VtXPnFl7AQbR1AcVlKZB7b5lypT5F3lr4\n",
       "01BuBAq54Z892OBCpY8P5Sf4yZYyevv/sHsKjRW1k3K6gVGsiWL5ApW7WDMm9QfiuVJtIGQCd6ic\n",
       "rLq2/fDdJ8PGcCH6qMEVdoP9b/OyPfwJqrA6TBlfXTx7WG23Fy5e3mxVe7UJkXLI/TSVjVLXBDRl\n",
       "iax9uO8VNbrktvZP4mqxlji2cvZ8UZLajd3AqVcRXspIUH2UbkmRhMqOZJlJGWVAwILaoROQI6Oo\n",
       "lL3KttdG0MmB3wruVtIyhZ2Ha6PfKOfjiPx3ufiVyo/ACuCJJrl3t/zbkEwFvtapCUQWJ4nY+/ZQ\n",
       "Y1qRy/snEYmFSG9SgknOI3cpI3FXxDvssSJnWeVLEpvlqfq8FJwp1SBAJJOxtL1+/f+SsifPQwbc\n",
       "o7Fau17cqkmDPbTwy/wOvKhuibqAbLkwDIsNk5U5lehB/8uAe+1/hTqXoMcivG/a/X1+B5EkaZFB\n",
       "Zrg0/gf68wrXx//Boj+7rtqsqlDB90yoDQzxtEJ7DTApsvVrcDQfwPmkhIgE2Dfo0KriPKOCOgtE\n",
       "S4gT+zCP4tSWi56xznK3sHP5Pf6dKKLgb1y1zPhG7CuN283wy9poaVjJR0z14elyw1HahZvUXm+H\n",
       "uQIWAD+shgQtbRYnby23EXwytbxLb2kwuc2t6NLZVcb4WONM+irvAtuBeT05lk71p4EaMxO0HI9A\n",
       "RlkvCLyzy1Jr99qxHt6WHh3NF/Ns8RMXWKF//MP4bt4QKJcQ73eHK6FzDOFj536uxMjwUG7yO7Ls\n",
       "VukXhdgeh9bLFKjQD2dvpsno0KGALm3C76FNyLppdb2XWj5hMtlxKohW98fF32fg/oZ1wKMERDLE\n",
       "6mC8y7oFganto72NMndgk+nni5n5Ke1bzKPFGrlA8PQKzcb2fAxfa7Fff3wQbW7NJ0xQq3S3DUOw\n",
       "VNMvo0VczPCjkc5wvKmIc1VnagMJEF2+kX0D+KlQ/aE21vhwrUWG1t7uifUmZyx4JqCYyGB8R4C9\n",
       "vNPRs9S43+UhgEcf7VO86xP/kdTGSlE7GqF+FP7xDpDEkSyTdMCm/S0NJu+zaK7W7rSPrYKjkj9V\n",
       "QYQMm0dSMRE0EKgqpk/cgGO+3ADymOMvVFqiiHKWNq87Rw1LYxYGAgb8hxCY2/JHHsL0gkppQVSK\n",
       "AsbZBKujStlBlhDjWlPQxXIPMohcD2gViIKLXLLftCprqAqGxLEFKhorWCvIfkoujYhHwH9QDMys\n",
       "jbquEfr1PLyY+F2jtd3PVIjxrAxDhdZ3z74w7NH3pJlo4xRUMDQuZy3xDw+re6sCNtkhOOCwZZBp\n",
       "BBAtooUMcA9jegeiLfl+fz1mtnG0BN6mEalwoBCEFawnGQr4rNAetT8B/vWeXPm3vC+D3vgvDls6\n",
       "gb6K3sGCpTSn5ZS9i+t+UC8tjjxqGF/GnE4x3Xi2oQSyZbUq5uMTKR4vEdvdJgam0mveG09id1qT\n",
       "DuAWsboMyDIc8UR4YPBre0rNWboiUGpE/X0KsMNDKdigxtfYAytYhyQrnhlWxhz5Ld8nYxIL2//8\n",
       "SgH+UCIgP+42wwm3tUFQncJ+tWxOG03e2h2tJ9EYLkc9+JN9Otf9w3MBbNd2GwMvyueBkOVeIK9j\n",
       "RTxst/bogQemlWijzhO2BQ6Kgx5ofYPO8TSYoJzXjE7t/wZxCuTemdZl93p/oaBuiyU9aDnwVnjZ\n",
       "mA1va+k/5IqXK+I22FCxED+JAOdjkxCvHuHp6Hp57mhWyb9Tkz/dLA76eCsHNsGW7jYEoAv0kOb6\n",
       "4gXy5vgoQ7+A+EoQS0UcFAXWCFJNyIVYBr98v3aBPuy7IHoE/lMuZbT4dtGLjdD2DraxGTs/UR1j\n",
       "DvdqRRVyEZVsDKKdIrJpx2/ivOG8laq7DjjaOrOz2evgfSp7sz7/2bihh7bEtsndAmaqAFSxLDjU\n",
       "LS/AN6+P/tQwJswfI6y1cBcjSJAmA6Owc6rtBNMEcC/ff6IA0+vA2UG/2khnK8bKYqXsGxBOy3jZ\n",
       "TyUrrbXmC2xONizCC98uXnboK4D0LbaIRj8rhcJyqVYkxo7WDXY6ioTl49Bst4qcl0SHEFbpv7Mo\n",
       "ytRi6WQj6WARdHMJFFOJCK8YkCVpISaYz8AVVsYOFIz+xBl1MTGQlRA/IdZh70zClTKVU59+YZNs\n",
       "RkGlyTOv2lCp9kJxHYaaMcVIQ3Kk19R8terXgr+avOJvltasJvkaR14B56/jZqdrS4uyvHV65I2w\n",
       "6ZUHwPQY+1MBc5lkjIUIBhjISCKGaVvLigIkZ1Uo/cC6viPD5lmOxJA/0GRln7b7W+TfperoqquU\n",
       "GeMr5hoRQidX5YPd+TQ+H6Z3MdfKegjUQOqDQb47KGDNTyWJkg0R5Gk0P9A5V1zRhxcL8lYzcPrk\n",
       "hwGOQin10TKqlc0xMULjejw8rQmLVq6MiTMsxyN8EBLsOmbM3NuSbLA9g6JNp///V6lAKb2NXm6R\n",
       "E51+8gEH5nwRr7O2OBJ6meZkwnSiZL2KLDF66uYsAoNkwqW60iDbuEebMSp59Wnlv2Bc79d9upHs\n",
       "HRSANCrbfMb+DepGxee3pHL4uAsNllqOesMTM9sc66WQ2i8jK5dEQ5x/9ToPTG71LC7CEqZ+2deC\n",
       "QqzAT3h/5s3rJ0NSiAdoBFZPbPkiuGLayH/zpyAG8XiBWI1TmgP9IXUVaD9XNTb4mA9ZTDlsvmJJ\n",
       "WfSDqkMrhBdF39sOQ2m2N8R2KydGP6oCTeCZFv0CZrcvCIgfTU5376kT5NcKOxQW5r28Us9gl6QK\n",
       "pkV7Q4J2K4V3xNyKhJwHwXw41KrOkAkvCGAYQC2cWG2mhfd3PbOOL0cr0ODpCLZgRKe953R3WWFG\n",
       "6e1ZNmxoc1qWZTSYakR/9u9k0cAnTT/3ZPgJJa3/rkckKoNthWvOsY6tmMG2+Fgkd8VNjHSG6R7b\n",
       "1NUTrdgmyxPcYbdiOwv72GjelaedVqOh0z7qPv87AaAWPEGSSh4LfypWmgeeGj6d5FgSZLP3aPAr\n",
       "r9hU2DlOYHX1RIeu0wEblWDQmGv8UYLfMnuaWYv9zV7ndrK2a8EU3WtYstYd6v5iEwhVKWZb3GZx\n",
       "l8NW1LktPIqp9yKtGCekWNf3zvAxoT7P/N1xI0TPYri0Nwet6kmiKZxijIIvuoaGoUb+lV2juqKn\n",
       "6N1AKjfESEfahvMaLsSpzOSkZxbW9rK9mscK4MNdUMT4NFVtlpPsqentwwcSShl+YfAfjTK+HaRB\n",
       "YhuAWT0At5POqTkh53/Dc1IHyx8gokSGGG3VM29RZdiy/+jaJzPgr6GWlCLwU4ZQNiDg6rV6RQmq\n",
       "ZBs4WjMuSb9igJsZ2gmMe+s08y1iIegsTl/P9RQZEpUfdMNrV4BGFSE4vLd0PUugxSUWnnZR872s\n",
       "EppsfO2z95haTwfkF6LPCah0heV0LmG7Sfvo7whpbrQXoxInFyPY/SoKIlBMcgHjBsFBLOgVxmpj\n",
       "LBhuxxGXYzeL6v6wMAE/z1HkluLprGqJbT2p0X3jR2f5/aXfjq7J9ttjzfjbj4IQSj1aaNxixKmF\n",
       "86A+qG2oFQjklQQ4fbn9is3dCw/JbIQzPg2T8FwdcrmRiJgwLAlngvPaptCDUU8i1U6cM7qEEmfu\n",
       "QJdMV2sOAUaJhe++sX2KxRS4mPPIClP4wXRmrJ2ZBV656nqjaQuZGk6TEYqwYNypp5cYDFHQNKSG\n",
       "4FBxXCRC+Cf3z+QwrzCgP8oyyFQH8JS+WbcBsKOiMAVrYhUv+j3S+W7GQ+a7RyMZ3w4qOPa7VhsQ\n",
       "gG6xu0ydarMVXRNfh1b4Gmj2IOPCikQXXongrwYClNOPQ9ln2Xruxt5dLd3knJABOZN7Ihe5Smr3\n",
       "mIwsE+XwBgjzg9n3Ycgcg95K5EO7qNz9TO19YbcS0Py8VYxlyr3PXvI4ZFp9DuGeqhtAJucfUVem\n",
       "dDW+VE5eyvxQOxqvqR6qZFB8LKfQWhwOmBJ+A2RGmXTaQ7RaCceaqvFp+ek984vFl6jf4xd+sPsw\n",
       "kgWRDKzklZQi5+gO0xk/t3Loxyr5k9F4ZNj1WYBVqFGEeCtO12tUhDw6TK79b874Ir6p3h8kV//Y\n",
       "zbNrWxCzbrdhGZy/NN9mFtj8XNSkyT2aWEAmwenmai0s7FtA+SbPQFnEtuqwwtjWGjbxiH4/7NYJ\n",
       "Sq/6Gf5fRgNz8heyn0L3DhZhcv3wQ2dyjJybUeYJaq8b5DD30iFhUhJf4Tj/Cep5MdfhnvmVz2QG\n",
       "S/qBfIvb1bzn2/pMxsUq0jU2UyEVAj/0Gq8I6084Oe9TpMSm70KiYB+nSIHxaqfX4OAr8OiXlYtw\n",
       "qYq4uwiO5pMQr6/RPnai851FGThGVBxif3nBlNTyXzvBJVTRLeIi8ZpZk+xgXXBXvkcmb0Ww7dMl\n",
       "m5jXCChhwoMSHG1FX4UiApRs5n9p79XkzwzUEXHaKgm2UreMacUygmvRts7OmzUKGrwuY9aRIPTe\n",
       "5KqtOcQ34CMfwYcpwbaFtdOIqeJh09tfAhUywgTAknBsGpl0u5696LAn2OdZUjY6hTfCZv8P1DKj\n",
       "V8uOU1ZFilkVer9fUVDazvjiP/DEdoI7uGeBhh9yhWDHculoWbGKNwqxECWAd1j4oN3vk8Ey0qkp\n",
       "+2WVGPe0h+UUn/g1hsr+D50IIw55GELcCgpkAi9PeMtXv5ZXBM8m5Cp1xE9uBp/Dd5fazShE1IW6\n",
       "NxND1rxzNPBSZdQPuyZvh3MJsqD0gSciJ0uv7LcwidjIVrdbAeOxQgkvCFdBl8z6JEZyPSMF56KJ\n",
       "2WxHtXVGD9Te/Td1GU36z2jdyBRj5AEsHytwnLfHRzlPvLzEaNyW2wpfx24QNjP4G25hAeMvLI2B\n",
       "71jIurVIo2u2Vz4uGHsIZKW3SFnvmfu/xn1zAhTW6mcQKXkhW0EIaWaRXlw1wKRkw87mEvwe9vXd\n",
       "VQTRKR9pb9uXi44qj5Z8DM/TqjDQFVFznFQPY8Q91zAtraAKrEI20YNWX5MOcsxgY0saroXsI8F1\n",
       "oIeu9NQxF5PGWQTbyjC+axuEZPyNyzZ84DgcQjMg+Kcz50N/0qNRnuWlO/ciP2PrBVzhvUOPAAnX\n",
       "Mix/wbYoV3t0iJg+6WqnL9PJU+l0PUUQQmNINqLGF+JmM90alraZjG2POz6n58kIXK8FHrnIa3Km\n",
       "rDAPkdUZroSqRbki1pjDJAYYJe9rCucLm5W8j/viZZLdxTcpYFgYS8jmlG0R3LsxCFFdkxXvZojl\n",
       "5t21o0xExLsT2sxwHe3vl6cIvLiLGiBmc9GZ9EOTJ25xNVDSoJGFkdm3gxYNV7C9mN0v6lSx9CFV\n",
       "9d8j8cmybaPcHNsbc90FBh76l/zTfbfgjS3YabcYzqgA+zhDAUDKO9kuQgI5cSbqip5PRlvC02mO\n",
       "YhBjNfSCALuMwmhCnPH+HjwEqpBmjrPP5sfuWEBZWcybEtpKl5sLBYMpGKmlqdPsnECEbBdkKANb\n",
       "KKz6vbQkkIIHQP+CTtG/qsuvjtSiG2ykAk77iOiaE1YQcwjjxFTFdH89VyPNol77iMeMbeXHM4FM\n",
       "5aylDrkK+blOG47B11h5c775zGWaHv5+V9MrvMCOZ5kS7+nPKorv5F4kbjVFfpZsSYjinSDX6dPr\n",
       "eKe4rfwHRARbpTiaFHG5aMGNG679rseIThCsScCIA7FzjUt8NAZVlVlRqh408dm6WdeRa+I5uLnW\n",
       "l2StEUDtFpyK2wffLVo8no7bv5l0rXYs7K1cwTmTj/kIfBTLKSgVlvKXXT8qclBnEioe1vzH48/k\n",
       "mSIGhpE7HeRulxYhrRYkr1gYb39+BMR6DYKryLcNVO54SFtySnjsuMgGcqzfufOgYq0b2V0drSYP\n",
       "GnLlf5EhOgOBagwPAqh1zx6B7iXAH41G8IGEpR9MizkExUShlDXCr1SPNrvcw73g5pJtJP77Uoq2\n",
       "/80oqgrH0nvRJo8DOJK2lz5nYQs+1yH8TAte4hlux++w1gvXPsyGU2sOk87AGE7QEOTTG6M7DU3w\n",
       "0V5TOzA1s0P4RBqK94kO56+UIvSVx+G4dZf5aHXjwOzN1VEPoFAO2SNVVB6x9ZhRWnVas5/ybwBN\n",
       "NWAe8ybwdMplS9k4U3iwX6Ctd2Q3U4ZpXz5HyDCHkUj5b34dGf10mbJYo15bUb1Qm1VJNA/qF83W\n",
       "Fa2yFR1twEWxkI8yOFzN0YEEmlrQZka/ifvWdaaNx3QNBn8Vk3f2n8janYTGtM7lgGvujPHY8DuJ\n",
       "4jyos0Ug8PzUJWW7EM5NJGiQh7GTDX546l+jxSOv6OvaE5n5THysdsN1/Y7r/qPwsIcdWz94VtZT\n",
       "kZYDYwJPOhVBSqeacpDZyd73mrCtY+VZ0bwTPYDgJDn4Wej/npjO+chPGXLD7WqmiqT+4ysyARQW\n",
       "s8cKtHK3leSxlqW/fUoI0eUlBqVGXJ3QqED5eCKpL3ZzxOXVNZC3pfn4VY5v0vcVtNa5immTIGGy\n",
       "1MQWBrRMsWjtCTmSCfe8HhAxtsktgvaXOSCcbgOIeUuEovjbuC3WpccQCQMw0KCs2KVdPWsHXgIg\n",
       "f9lbIpMfOR1Et4wzxQbAjJ6kbplAhHz4Dl3t1U1iZVhPoxNkhvQUSyIMX5BHNdAIPWtjr+9MnQBe\n",
       "jN4KVZFpVFN2cGxUppmOW+vUrNbMuxzcO/8XbHCkhrJ5yu05BXu84aRH5eQd2JrEomCRklaiEa+7\n",
       "KNjre9OKCKgatxvNFuiqELg9Y4s0y/ZSoqHTlV0iAsu/auUpLzFsWgBFRW29YgIYpsSNUeeGTu7G\n",
       "V2SbDSrEiZhGcZTaLPd9ngtc+j6LCzNiex9gqOEAnJIbK43Efi7AB2oCJ85OOF5bhYDs0QscHXXl\n",
       "ElXF2bRYtu+/oXiGblYnCi+96g0mDGURWddCxiQk9BJZzFm3D8wNse5dPzZeQngZA4DiN1aNB2c6\n",
       "m3/lt/iiHV4VDIwWnXQiQQbhWhKXQ76Dx+9mbQvxMN+0URuyUbbpBJQXaKyxyYVhwcl/+o+GcLPa\n",
       "gP7F93hKys3NSkV/VUoHxYsWThNXR/q8BPTpF85Z8B8TtsCNZ5e0y3WDsSM2JMSi6Dyx0lCakrKU\n",
       "l8eDkT7EpXmMweffzzCCtsZTu3Ra6HyJ3onSFzvLw/VUo1FSmRU7iXtVCeVhuJB/pWnyjh9j6kKg\n",
       "a4lNL30N3FSZKthoG50+DowhrmcVOkcXoHzsncvWH2xWAmH03xEDXArX4FuRr8gHp4++vfPs2til\n",
       "2w848296ZlUeR7eYB9GMI0SmN/8HjAudkW9W/Y5jX+zz7PiQSyXFZC0gxNFqcA45uNOBWDawEOrH\n",
       "3FNZkJrbnkCz55fwkZosyNIgotXophsJlxno6IfSZQ8snaQLB5MIv6PxUSmHl2pU5yYNmxd+PwF9\n",
       "n7gnEoSCwgwFXjZxV2t2G6rvfqv7wed73yV/1z7NU7x5tJcNLdVBRQyYHNG81dLKLUWSwo1JuoEs\n",
       "87Xd3gQ7aVspwvirOtAlBA2bJnOsrY5rxZZDzwIM5WFm0sOgjPPHxe3hzftuOki8cXpcF3vETLTr\n",
       "tPdpG/pStLX64X1pGZ8BP3IS0jTnfzwzatna9iTzZg8nEGQB6umWHZNL7vS8oeWZRaaA706wXOqx\n",
       "axK7xMY4Eg46oznMZ84ivaz4E/TRSBbDJIW/mci8zwrgvXH281JEpJzt3K15OmKfYW1DX9moNwd2\n",
       "WkulNumEGWBabHEkerEMkTERVcV4LXDHf3L2i/xReJE906+bFYBWeudmHzlLMN7fnQHvtH2P+tV8\n",
       "ql1JCMkWmqN4R8m51uncMN5adCluMWPxeiOkODXq75gOeNvyR/16hVaeOHLPP0Zqaan7TSuUhEfw\n",
       "uGuJkISakw+0fHw/7DOWQUuK+Oy6oBJnx22AA8uZNU4i2PR954B669iMj1X21orqRcpjetk+CX9w\n",
       "wPnCwhrJxLxuHocH0wq8gF7V1u9ICzZAymPOildVWKDUoy9zuG01r2zXapur7EP/lLbXjYSkc3Xm\n",
       "stceWwaWZ/BCjslI/HfVrXz602st5BBjBKfjfcf6RbqYduPEEfMrkTMrBvaPkJ/zND9UWRhCvjcK\n",
       "N8CwVUMFSmREaJfaad+k37N5AHEJPdLIUUOQPlupKBh6QdW0LqKB8vEwUiAC2adg8N5CXEtbNvHf\n",
       "zZ69/WtL0X/N4HZYIP8sI/FvoUxf01UHJnR13mkzIRzs/xgtaCO7OBbJh1FDFAeVV4OUI91eP1G0\n",
       "OIN9ux1ik7nXe4uLylivkQJPfpe0rKz0Je+3vgKo1ut5yBJ8B7JHq/txRhZ+ZR2jdlq/bt/+5UjD\n",
       "kLuHgdyqU/9TktIOSvWO4AHHlQeAiXsgBybVZ44uM/aozzFjSv6DzgqFPwSznEeCUkHidAIfJYSc\n",
       "XppKhhtvq9ZYhgwJYmSVShu6WHCCrmbdtcNCGhqgEObvyvldVpKnD9zdGQ0/d9IQmlO829l/Ao2O\n",
       "loEkzM6DZmpYYW/ckQRn/K4+20H0KRqxhc2u4VSIHT8VrYFpxihUC2/pasQbnALJ24h+1we7/gpY\n",
       "KmJJnCjlFl9dATq9QCttwEPJ/6UzCO+gTjH51Zdk37RUoIAfApZiq7kk3llb241fJvdRNXfcyg/X\n",
       "krjL3b+BjWmHv01+6f+MSvbbUxVidNQqIHUYZ1neowtL2IWKBAw0D+wTpvSGdGN+LtBFS9002dRu\n",
       "aZTbw/bvLlX/U50jvAdWILIYW1oH9ZBzKvpZnA2lTn7Lk8L8/3UpnrlzeGZoVFcEshl4RSTv7308\n",
       "6HVUMSESy32Foe9leImdw5VN9z8Q7AnQNnY05xzugFl4wO9Sm+YbGVkmrpFKqVJPf2xNKkv1zcFI\n",
       "wAVWpqOzTtg0QvTuHaz0Awswiuj39xzMNjmCc4g19b0uq+MBXghL3YMQxQ8B9nkfrjHD5d3yxvur\n",
       "iZI/ZwFYLlQz7FFQXJXzv3QWOUXocb2ARAhESJkTUz4f2iG+ZIJX+EjaekzPOrSYCOkDZp/en3cU\n",
       "uTZMLdXXk4aRz1KMPXZKwpcGHNZtIwaYYR4UCsEakGelA4vHJHZvnO7b2nLMrDMOO9enz3IzUZjx\n",
       "oeniwiUje1G1zBSHDb29AigB9kPfbZjnPkEeOOfOKrnTHFFqt+ZbQd5/KY9Zkv7dqK/VwFS1rfuV\n",
       "VcfHB4hxUvLJVGxICfOvu3ivesERCuB64S+h9Tit9h7GExUVLJHuhVA7mT5UfjH9SIoeHonJwMw3\n",
       "A+wfEQ6rfOh4Psd2XAxPN1cpY7DqPp+fs2SAxyLhqv1oVF6mT3NoyJOz9y3Dd9IaV5UmY/SdI+jk\n",
       "ML+EHbss6k1r3AbVpOQOGEOFmZhF2Sko7HqB/CdO8LtHwFYkK4EqR+6mV6DOLz6BFF4Bo3/U2Ll9\n",
       "2x76vMTGFJmBwp3vkDA8qqpUSlxGS3507Q0SrM8ncrN7XXQvnbdS9gEEskmBfQwrIFbWkP/ccoaQ\n",
       "gNBIpYOcDgl8wxdIkd2lDEVe+raFX+ZlD4R9Rxepb5LiFGbT2J/26tPcs7QhYL2Hvrkw1dscdz8j\n",
       "CLNlK9CVci0u3/6/7QvHhSRZYYWwdMxOrpJPlf2eiGMFvFrWWNlSVGBN3ZDGnkGqJ4ApTFrs+zQM\n",
       "t5zZdH6m7UtMt3vP3iJQPlNSXmjkFW1jvFoyvp+uOFb9yfqWRUe+g4JXxkVdterfsbBCV2bSen0l\n",
       "9dK1DtVOYVhjlYK4KG2FzaMFEEZaKVqEUGUxb/q8Az5yXlCx0j0XeK+sCI0mwMVfsEryqKt7t8rs\n",
       "haXJ1lOjMdZo+8ipnv/mCKZP9cf7CGEjcKWFJt22B3G0weStIzieW3FJ9jUbBnGKSgOdGF4V2Ezk\n",
       "eOU+YfnUf1HFtNOK49K9N46XmPREiCdrytFRFGgW7gns1thzaSINK+ZUzKxuPn7bNgQHCXF9rmkG\n",
       "soQKz2oApZXlaxg4VnvAilWamc1XydQIVJY5q3qseSuF5YeZlSwcCYzBYl7Rn51QQVLMKplZyV8j\n",
       "VOixj4Om27iT+hRxN8KXtPhqXxAekFA7Smx31ykx6dr/PDetNmM4Dc2uF1fWpw+BxsDS9agvX7Rx\n",
       "VgObaGpZQQavJdqUiqu9uhAD5H7OaDTl1jDd4QkuQG++JOydQsLgEg6NNCkxz8io4SHYZ2nBCur5\n",
       "P0gl+gQgGvIFrXacnaDH8VWwCyJENNii/5Jx62OSxbpogwPL8gGVWK4Drk76ppP6K8OWJ7LFm4pW\n",
       "pE1zdneCQvYAukqKDkut14jqjOU62p0B1xp+vZZgCnz6khUSSuZLaTWeuBHj/XegQLvLmizJEl0+\n",
       "X2IF6P03FVczmvmBhDDO4z0d1S+J77Lma9Xc+wXpiEyaErwuePfY9jMqCaiPa4rzbsi2vY1xNeW+\n",
       "+iVAqMy7VSNtXmNPRDXDtiDymI4ykS6LLc5eYS+UI0BiS3Tm9bdUhYcJethXaG4D4Tw6NEzG5Gh4\n",
       "gRQ8e1XR70FLJcIO8P0+bhpvGw3p/m82SKVP77oENycLEQDRMGv1h/C4C4wNPyNfTG+7eXavCiEy\n",
       "nNhbomFePQIBw9oqsJnlhQ9xyH1Wamd7o8jgiVdG9+4jp9rL1dSC97u5Lo/i+l8ZbEZJVvK35Nsm\n",
       "2B9IcUzJT0uduX/YE5mqwcfEj1421XHftLNrcbHTUsDNrMFKlLgB7BMMtiA2bTh1PGLz3asmY/cg\n",
       "cC7O/UPBrDRR9gBmVEh6NHquoaAi/+dFmZMsIjk1gtA+5kFy8nWfQpn9ef/7JYR//0bks9/EjFX5\n",
       "jPXFWKhOSgLzB4OBJaji03EDMp2QF2/I7skm6S0IVTeusB8JqCvU9WLpBbe3oVaaepj4C35u1ONL\n",
       "+3V8I573TssHNImZqnawJL3cTHrLQhS3eXwTWcwR+Uetkdl1hc1VLrxQT3U0njpvBdwrDSJPWt2C\n",
       "fgeF4vo2yJeXw+XAxdD0yFSVcf4bTCwf5WBl6jP0fGS6V+DLXTe63tYywCn3wrTbZD2FR+vdaKoh\n",
       "niUVBeBCo/ZF1MyArLMjKQs5mUBhO4dB39w89INmSzF8pveBx2wEUDMAGHbo6Abz61OrJWds/1c0\n",
       "XyDPAPrnyeRlJUBrxnD30l+HYw+zMxm+ySIscce+PFb7NGd0H+bh2eZOfn07acHRSQ0GITpUxLTT\n",
       "eAnsPqI2Xf+yJZ1yN7qczoGrevWd9NX61V81PW+oeHb6ElpsSC3eTtO6r5R6TA7ZP9pmECpgMz1u\n",
       "j4sUKJ3EGCzp+PuB3QBUVhutoGOgZ6kH6YnwUkorTTT7HGsAnrrX0cP8L0slEiiyo8fvcSI8JGVG\n",
       "lBCko90x+ch6ITFqH0uXoP1LaVM9Xy892hWULo9vIpyMVLRPr1+XNr2bYXkOmtx+aBt00AMx+Dar\n",
       "EimmWfXrbKKM2rkvE+ZF8h6FhXOqJ3efXirw2ooV9cUg6D+1CXI3tto1KjwRooZpJ9W0aexiTrho\n",
       "tgMwsAqOmXyfxMp1tzeFkKA9EFDDuofj1Da+7073z1zNjUyev3e77p0OaCTPnajF8ZsTffyS7X2T\n",
       "MPXEZzfqhz96KNq3tFJas3IwfCUj2qBNxlN97c0b1hlJ1mMEI2/DC1CaFKX3Z6g2WeczIeBcHWN5\n",
       "6J550sEai+MYhKXP3//1LoX0QiTDkOvixjRfjWH5cdvdivQhATa+Vpj8RPMq4uRa3tHi8CwH/SkR\n",
       "fTUVhOxVy3OZDH/R6PMGKg3BJ7VezCHx8fBbNSgH+QAAAdNBmiRsQ//+qZYJtqUHM/UMlGyE9GgB\n",
       "YBZ0AgOSvow9zUcOl6+DSrOe2YKIYp3uHdqcY5muXwzuQvuhpz5MM9VGMcLLPnVs7Sq8jB8uXdpo\n",
       "J1wuenjt38+wVflHvsC4c0KnMsnbaqc63/MG/lYtrr3z+TPWjNg3C4DtEpCBdxm/HaQrwgIZKchY\n",
       "smPlGY8RY22AYGpqfQ3lCOn70iXa4SfF/81BS0cDA3hk2MCf0INwtsWxk5gqzFKPxS49Bt+1Q8fq\n",
       "gmHROf1zZuPi0i/g3RcOkMfoLPFAINh1HEMIiTtgimqgueD7cDsgBz2TqWGRsV++cqA+aiM/hf1C\n",
       "bx1LL5MHSymaAKhILqo3KsAxFPPimxKuukYmXYmo7OLlJtCb7ki7s3FxePjPD6+p6BmcN3QtHutJ\n",
       "kFtCCbx60oqotzzSpNHPG/Z/21PYlc9sICiI1ppld2rteoDmHS9tJyJT5nsP1n4I8DX8oECCcaAY\n",
       "hTmCY2nrhdEk1xvvoV54i5ui/+qBtjSOGG3Xe1iRfi0Po5r/6Qft8NClarFIUif7C/3DIQ5s66qy\n",
       "MiJ95VVPDeJ1tsVHxILvHW5nuL/qdhJwCKJBBJTvzewxcH0Eulo8CEQxk6FTvgAAAEBBnkJ4hn8B\n",
       "qcavdpejuRa2car6pCzOwAjgCnzhXleEMlmFOvbnySBUEOlIHD0Bx+sF2FoosvMkUnpKwFLtICah\n",
       "AAAANQGeYXRCvwLtLYoSAji2UeBptXwCeAF5UOlyym10E55L5AqxHE+GzjQhuRxU49PIBGTQlzrg\n",
       "AAAAEwGeY2pCvwAACS7AjN+o7diXz8cAAAAhQZpoSahBaJlMCH///qmWAAtxdO1hh0W1jwLLSuDN\n",
       "4nAtAAAAFUGehkURLDP/AAAE+UQNgGQS9mItxwAAABMBnqV0Qr8AAAkromuj5TYEUsjNAAAACwGe\n",
       "p2pCvwAAAwGLAAAAFUGarEmoQWyZTAh///6plgAAAwDwgAAAAA5BnspFFSwz/wAAAwDUgQAAAAsB\n",
       "nul0Qr8AAAMBiwAAAAsBnutqQr8AAAMBiwAAABVBmvBJqEFsmUwIf//+qZYAAAMA8IEAAAAOQZ8O\n",
       "RRUsM/8AAAMA1IEAAAALAZ8tdEK/AAADAYsAAAALAZ8vakK/AAADAYsAAAAVQZs0SahBbJlMCH//\n",
       "/qmWAAADAPCAAAAADkGfUkUVLDP/AAADANSBAAAACwGfcXRCvwAAAwGLAAAACwGfc2pCvwAAAwGL\n",
       "AAAAFUGbeEmoQWyZTAh///6plgAAAwDwgQAAAA5Bn5ZFFSwz/wAAAwDUgAAAAAsBn7V0Qr8AAAMB\n",
       "iwAAAAsBn7dqQr8AAAMBiwAAABVBm7xJqEFsmUwIf//+qZYAAAMA8IAAAAAOQZ/aRRUsM/8AAAMA\n",
       "1IEAAAALAZ/5dEK/AAADAYsAAAALAZ/7akK/AAADAYsAAAAVQZvgSahBbJlMCH///qmWAAADAPCB\n",
       "AAAADkGeHkUVLDP/AAADANSAAAAACwGePXRCvwAAAwGLAAAACwGeP2pCvwAAAwGLAAAAFUGaJEmo\n",
       "QWyZTAh///6plgAAAwDwgAAAAA5BnkJFFSwz/wAAAwDUgQAAAAsBnmF0Qr8AAAMBiwAAAAsBnmNq\n",
       "Qr8AAAMBiwAAABVBmmhJqEFsmUwIf//+qZYAAAMA8IEAAAAOQZ6GRRUsM/8AAAMA1IEAAAALAZ6l\n",
       "dEK/AAADAYsAAAALAZ6nakK/AAADAYsAAAAVQZqsSahBbJlMCH///qmWAAADAPCAAAAADkGeykUV\n",
       "LDP/AAADANSBAAAACwGe6XRCvwAAAwGLAAAACwGe62pCvwAAAwGLAAAAFUGa8EmoQWyZTAh///6p\n",
       "lgAAAwDwgQAAAA5Bnw5FFSwz/wAAAwDUgQAAAAsBny10Qr8AAAMBiwAAAAsBny9qQr8AAAMBiwAA\n",
       "ABVBmzRJqEFsmUwIf//+qZYAAAMA8IAAAAAOQZ9SRRUsM/8AAAMA1IEAAAALAZ9xdEK/AAADAYsA\n",
       "AAALAZ9zakK/AAADAYsAAAAVQZt4SahBbJlMCH///qmWAAADAPCBAAAADkGflkUVLDP/AAADANSA\n",
       "AAAACwGftXRCvwAAAwGLAAAACwGft2pCvwAAAwGLAAAAFUGbvEmoQWyZTAh///6plgAAAwDwgAAA\n",
       "AA5Bn9pFFSwz/wAAAwDUgQAAAAsBn/l0Qr8AAAMBiwAAAAsBn/tqQr8AAAMBiwAAABVBm+BJqEFs\n",
       "mUwIf//+qZYAAAMA8IEAAAAOQZ4eRRUsM/8AAAMA1IAAAAALAZ49dEK/AAADAYsAAAALAZ4/akK/\n",
       "AAADAYsAAAAVQZokSahBbJlMCH///qmWAAADAPCAAAAADkGeQkUVLDP/AAADANSBAAAACwGeYXRC\n",
       "vwAAAwGLAAAACwGeY2pCvwAAAwGLAAAAFUGaaEmoQWyZTAh///6plgAAAwDwgQAAAA5BnoZFFSwz\n",
       "/wAAAwDUgQAAAAsBnqV0Qr8AAAMBiwAAAAsBnqdqQr8AAAMBiwAAABVBmqxJqEFsmUwIf//+qZYA\n",
       "AAMA8IAAAAAOQZ7KRRUsM/8AAAMA1IEAAAALAZ7pdEK/AAADAYsAAAALAZ7rakK/AAADAYsAAAAV\n",
       "QZrwSahBbJlMCH///qmWAAADAPCBAAAADkGfDkUVLDP/AAADANSBAAAACwGfLXRCvwAAAwGLAAAA\n",
       "CwGfL2pCvwAAAwGLAAAAFUGbNEmoQWyZTAh///6plgAAAwDwgAAAAA5Bn1JFFSwz/wAAAwDUgQAA\n",
       "AAsBn3F0Qr8AAAMBiwAAAAsBn3NqQr8AAAMBiwAAABVBm3hJqEFsmUwId//+qZYAAAMA8IEAAAAO\n",
       "QZ+WRRUsM/8AAAMA1IAAAAALAZ+1dEK/AAADAYsAAAALAZ+3akK/AAADAYsAAAAVQZu8SahBbJlM\n",
       "CHf//qmWAAADAPCAAAAADkGf2kUVLDP/AAADANSBAAAACwGf+XRCvwAAAwGLAAAACwGf+2pCvwAA\n",
       "AwGLAAAAFEGb4EmoQWyZTAhv//6nhAAAAwHdAAAADkGeHkUVLDP/AAADANSAAAAACwGePXRCvwAA\n",
       "AwGLAAAACwGeP2pCvwAAAwGLAAAAE0GaI0moQWyZTAhX//44QAAAHHAAAAANQZ5BRRUsL/8AAAMB\n",
       "HwAAAAsBnmJqQr8AAAMBiwAAB9Ztb292AAAAbG12aGQAAAAAAAAAAAAAAAAAAAPoAAATiAABAAAB\n",
       "AAAAAAAAAAAAAAAAAQAAAAAAAAAAAAAAAAAAAAEAAAAAAAAAAAAAAAAAAEAAAAAAAAAAAAAAAAAA\n",
       "AAAAAAAAAAAAAAAAAAAAAAACAAAHAHRyYWsAAABcdGtoZAAAAAMAAAAAAAAAAAAAAAEAAAAAAAAT\n",
       "iAAAAAAAAAAAAAAAAAAAAAAAAQAAAAAAAAAAAAAAAAAAAAEAAAAAAAAAAAAAAAAAAEAAAAABsAAA\n",
       "ASAAAAAAACRlZHRzAAAAHGVsc3QAAAAAAAAAAQAAE4gAAAQAAAEAAAAABnhtZGlhAAAAIG1kaGQA\n",
       "AAAAAAAAAAAAAAAAACgAAADIAFXEAAAAAAAtaGRscgAAAAAAAAAAdmlkZQAAAAAAAAAAAAAAAFZp\n",
       "ZGVvSGFuZGxlcgAAAAYjbWluZgAAABR2bWhkAAAAAQAAAAAAAAAAAAAAJGRpbmYAAAAcZHJlZgAA\n",
       "AAAAAAABAAAADHVybCAAAAABAAAF43N0YmwAAACzc3RzZAAAAAAAAAABAAAAo2F2YzEAAAAAAAAA\n",
       "AQAAAAAAAAAAAAAAAAAAAAABsAEgAEgAAABIAAAAAAAAAAEAAAAAAAAAAAAAAAAAAAAAAAAAAAAA\n",
       "AAAAAAAAAAAAAAAY//8AAAAxYXZjQwFkABX/4QAYZ2QAFazZQbCWhAAAAwAEAAADAKA8WLZYAQAG\n",
       "aOvjyyLAAAAAHHV1aWRraEDyXyRPxbo5pRvPAyPzAAAAAAAAABhzdHRzAAAAAAAAAAEAAABkAAAC\n",
       "AAAAABRzdHNzAAAAAAAAAAEAAAABAAADKGN0dHMAAAAAAAAAYwAAAAEAAAQAAAAAAQAACgAAAAAB\n",
       "AAAEAAAAAAEAAAAAAAAAAQAAAgAAAAABAAAKAAAAAAEAAAQAAAAAAQAAAAAAAAABAAACAAAAAAEA\n",
       "AAoAAAAAAQAABAAAAAABAAAAAAAAAAEAAAIAAAAAAQAACgAAAAABAAAEAAAAAAEAAAAAAAAAAQAA\n",
       "AgAAAAABAAAKAAAAAAEAAAQAAAAAAQAAAAAAAAABAAACAAAAAAEAAAoAAAAAAQAABAAAAAABAAAA\n",
       "AAAAAAEAAAIAAAAAAQAACgAAAAABAAAEAAAAAAEAAAAAAAAAAQAAAgAAAAABAAAKAAAAAAEAAAQA\n",
       "AAAAAQAAAAAAAAABAAACAAAAAAEAAAoAAAAAAQAABAAAAAABAAAAAAAAAAEAAAIAAAAAAQAACgAA\n",
       "AAABAAAEAAAAAAEAAAAAAAAAAQAAAgAAAAABAAAKAAAAAAEAAAQAAAAAAQAAAAAAAAABAAACAAAA\n",
       "AAEAAAoAAAAAAQAABAAAAAABAAAAAAAAAAEAAAIAAAAAAQAACgAAAAABAAAEAAAAAAEAAAAAAAAA\n",
       "AQAAAgAAAAABAAAKAAAAAAEAAAQAAAAAAQAAAAAAAAABAAACAAAAAAEAAAoAAAAAAQAABAAAAAAB\n",
       "AAAAAAAAAAEAAAIAAAAAAQAACgAAAAABAAAEAAAAAAEAAAAAAAAAAQAAAgAAAAABAAAKAAAAAAEA\n",
       "AAQAAAAAAQAAAAAAAAABAAACAAAAAAEAAAoAAAAAAQAABAAAAAABAAAAAAAAAAEAAAIAAAAAAQAA\n",
       "CgAAAAABAAAEAAAAAAEAAAAAAAAAAQAAAgAAAAABAAAKAAAAAAEAAAQAAAAAAQAAAAAAAAABAAAC\n",
       "AAAAAAEAAAoAAAAAAQAABAAAAAABAAAAAAAAAAEAAAIAAAAAAQAACgAAAAABAAAEAAAAAAEAAAAA\n",
       "AAAAAQAAAgAAAAABAAAKAAAAAAEAAAQAAAAAAQAAAAAAAAABAAACAAAAAAEAAAoAAAAAAQAABAAA\n",
       "AAABAAAAAAAAAAEAAAIAAAAAAQAACAAAAAACAAACAAAAABxzdHNjAAAAAAAAAAEAAAABAAAAZAAA\n",
       "AAEAAAGkc3RzegAAAAAAAAAAAAAAZAAAJc0AAAHXAAAARAAAADkAAAAXAAAAJQAAABkAAAAXAAAA\n",
       "DwAAABkAAAASAAAADwAAAA8AAAAZAAAAEgAAAA8AAAAPAAAAGQAAABIAAAAPAAAADwAAABkAAAAS\n",
       "AAAADwAAAA8AAAAZAAAAEgAAAA8AAAAPAAAAGQAAABIAAAAPAAAADwAAABkAAAASAAAADwAAAA8A\n",
       "AAAZAAAAEgAAAA8AAAAPAAAAGQAAABIAAAAPAAAADwAAABkAAAASAAAADwAAAA8AAAAZAAAAEgAA\n",
       "AA8AAAAPAAAAGQAAABIAAAAPAAAADwAAABkAAAASAAAADwAAAA8AAAAZAAAAEgAAAA8AAAAPAAAA\n",
       "GQAAABIAAAAPAAAADwAAABkAAAASAAAADwAAAA8AAAAZAAAAEgAAAA8AAAAPAAAAGQAAABIAAAAP\n",
       "AAAADwAAABkAAAASAAAADwAAAA8AAAAZAAAAEgAAAA8AAAAPAAAAGQAAABIAAAAPAAAADwAAABgA\n",
       "AAASAAAADwAAAA8AAAAXAAAAEQAAAA8AAAAUc3RjbwAAAAAAAAABAAAALAAAAGJ1ZHRhAAAAWm1l\n",
       "dGEAAAAAAAAAIWhkbHIAAAAAAAAAAG1kaXJhcHBsAAAAAAAAAAAAAAAALWlsc3QAAAAlqXRvbwAA\n",
       "AB1kYXRhAAAAAQAAAABMYXZmNTguMjAuMTAw\n",
       "\">\n",
       "  Your browser does not support the video tag.\n",
       "</video>"
      ],
      "text/plain": [
       "<matplotlib.animation.FuncAnimation at 0x11bb7d630>"
      ]
     },
     "execution_count": 15,
     "metadata": {},
     "output_type": "execute_result"
    }
   ],
   "source": [
    "ani"
   ]
  },
  {
   "cell_type": "code",
   "execution_count": null,
   "metadata": {},
   "outputs": [],
   "source": []
  }
 ],
 "metadata": {
  "kernelspec": {
   "display_name": "Python 3",
   "language": "python",
   "name": "python3"
  },
  "language_info": {
   "codemirror_mode": {
    "name": "ipython",
    "version": 3
   },
   "file_extension": ".py",
   "mimetype": "text/x-python",
   "name": "python",
   "nbconvert_exporter": "python",
   "pygments_lexer": "ipython3",
   "version": "3.6.7"
  }
 },
 "nbformat": 4,
 "nbformat_minor": 2
}
